{
  "nbformat": 4,
  "nbformat_minor": 0,
  "metadata": {
    "colab": {
      "provenance": []
    },
    "kernelspec": {
      "name": "python3",
      "display_name": "Python 3"
    },
    "language_info": {
      "name": "python"
    }
  },
  "cells": [
    {
      "cell_type": "markdown",
      "source": [
        "<a target=\"_blank\" href=\"https://colab.research.google.com/github/ChuBL/Colab_Tutorial_CS579/blob/main/Colab_Tutorial_CS579.ipynb\">\n",
        "  <img src=\"https://colab.research.google.com/assets/colab-badge.svg\" alt=\"Open In Colab\"/>\n",
        "</a>"
      ],
      "metadata": {
        "id": "-APbKahXnZQq"
      }
    },
    {
      "cell_type": "markdown",
      "source": [
        "Special thanks to [Data Professor YouTube channel](http://youtube.com/dataprofessor),\n",
        "[N46Whisper](https://github.com/Ayanaminn/N46Whisper).\n"
      ],
      "metadata": {
        "id": "0Bddb6oFbUwT"
      }
    },
    {
      "cell_type": "markdown",
      "source": [
        "<a name=\"0-outline\"></a>\n",
        "# 0. Outline"
      ],
      "metadata": {
        "id": "A--Re_81hwFR"
      }
    },
    {
      "cell_type": "markdown",
      "source": [
        "1. [Headings](#1-heading)\n",
        "2. Package Usage\n",
        "3. [Using R in Colab](#3-R)\n",
        "4. [Data Handling](#4-data)\n",
        "5. [YData Profiling](#5-ydata)\n",
        "6. [Connecting to Google Drive](#6-drive)\n",
        "7. [Colab Pro](#7-colabpro)\n",
        "\n"
      ],
      "metadata": {
        "id": "37TdQKeZhyws"
      }
    },
    {
      "cell_type": "markdown",
      "source": [
        "<a name=\"1-heading\"></a>\n",
        "# 1. Heading 1\n",
        "[[Back to Top](#0-outline)]\n",
        "\n",
        "This is the level 1 heading."
      ],
      "metadata": {
        "id": "4ZVXPS1bBI9w"
      }
    },
    {
      "cell_type": "markdown",
      "source": [
        "## 1.1 Heading 2\n",
        "This is the level 2 heading.\n",
        "\n",
        "You can click the `ᐯ` at the left of the headings to fold the sections."
      ],
      "metadata": {
        "id": "5OMyHeA-BX1G"
      }
    },
    {
      "cell_type": "markdown",
      "source": [
        "### 1.1.1 Heading 3"
      ],
      "metadata": {
        "id": "_6j1XuxnCY5J"
      }
    },
    {
      "cell_type": "markdown",
      "source": [
        "❗Oops❗**(1/4)**\n",
        "\n",
        "The heading for the next section is missing!\n",
        "\n",
        "Please insert a *text cell* of **level 1 heading** named `2. Package Usage` below this cell to avoid incorrect section foldings."
      ],
      "metadata": {
        "id": "V2bGOtkRBpQ1"
      }
    },
    {
      "cell_type": "markdown",
      "source": [
        "Welcome to section 2, package usage.\n",
        "\n",
        "This is the section for basic package managements.\n",
        "\n",
        "Colab has many built-in packages."
      ],
      "metadata": {
        "id": "_8AjxDFECiA2"
      }
    },
    {
      "cell_type": "markdown",
      "source": [
        "## 2.1 Importing Packages"
      ],
      "metadata": {
        "id": "Ei0L63kIKWzD"
      }
    },
    {
      "cell_type": "code",
      "source": [
        "import numpy as np\n",
        "import pandas as pd"
      ],
      "metadata": {
        "id": "s82-jewsCqU8"
      },
      "execution_count": null,
      "outputs": []
    },
    {
      "cell_type": "code",
      "source": [
        "# numpy\n",
        "zeros_array = np.zeros((3, 3))\n",
        "print(zeros_array)\n",
        "\n",
        "# pandas\n",
        "data = {'Name': ['John', 'Jane', 'Mike'], 'Age': [30, 25, 40]}\n",
        "df = pd.DataFrame(data)\n",
        "print(df)"
      ],
      "metadata": {
        "id": "g8kXf3iSJle-"
      },
      "execution_count": null,
      "outputs": []
    },
    {
      "cell_type": "markdown",
      "source": [
        "## 2.2 Installing Packages"
      ],
      "metadata": {
        "id": "dCSs81bAKaV9"
      }
    },
    {
      "cell_type": "markdown",
      "source": [
        "However, sometimes, you must install packages before importing."
      ],
      "metadata": {
        "id": "GDRAAtA7C0G2"
      }
    },
    {
      "cell_type": "code",
      "source": [
        "# Try import without installation\n",
        "import py3Dmol"
      ],
      "metadata": {
        "id": "FS5-YQNJCxS5"
      },
      "execution_count": null,
      "outputs": []
    },
    {
      "cell_type": "markdown",
      "source": [
        "❗Oops❗**(2/4)**\n",
        "\n",
        "We got a <font color='red'>ModuleNotFoundError</font>!\n",
        "\n",
        "Please insert a *code cell* below and run\n",
        "\n",
        "`!pip install py3Dmol`\n",
        "\n",
        "*The exclamation point tells the notebook cell to run the following command as a shell command.*"
      ],
      "metadata": {
        "id": "nU0G6flsGO38"
      }
    },
    {
      "cell_type": "code",
      "source": [
        "# Now, try import it again\n",
        "import py3Dmol"
      ],
      "metadata": {
        "id": "5Nba7-9e0gi0"
      },
      "execution_count": null,
      "outputs": []
    },
    {
      "cell_type": "markdown",
      "source": [
        "## 2.3 Play with the Installed 3D Package\n",
        "\n",
        "[Source](https://pypi.org/project/py3Dmol/)"
      ],
      "metadata": {
        "id": "qCUzcRKfXCG8"
      }
    },
    {
      "cell_type": "code",
      "source": [
        "# Toy a example for the installed package\n",
        "view = py3Dmol.view(query='pdb:1ubq')\n",
        "view.setStyle({'cartoon':{'color':'spectrum'}})\n",
        "view"
      ],
      "metadata": {
        "id": "R0MlT5wj0jI5"
      },
      "execution_count": null,
      "outputs": []
    },
    {
      "cell_type": "markdown",
      "source": [
        "<a name=\"3-R\"></a>\n",
        "# 3. Using R in Colab (Try this after class)\n",
        "\n",
        "[[Back to Top](#0-outline)]"
      ],
      "metadata": {
        "id": "h5my3OM_LSg_"
      }
    },
    {
      "cell_type": "code",
      "source": [
        "# Check the python version\n",
        "! python --version"
      ],
      "metadata": {
        "id": "4ksFfBZOL5SK"
      },
      "execution_count": null,
      "outputs": []
    },
    {
      "cell_type": "markdown",
      "source": [
        "Go to the menu for `Runtime` -> `Change runtime type` -> Switch the Runtime type from `Python 3` to `R`"
      ],
      "metadata": {
        "id": "HupyLP96MqG4"
      }
    },
    {
      "cell_type": "code",
      "source": [
        "%%script false --no-raise-error\n",
        "# comment out the first line to activate this code block\n",
        "\n",
        "# Check it again\n",
        "! python --version"
      ],
      "metadata": {
        "id": "wvewBVg6M_vp"
      },
      "execution_count": null,
      "outputs": []
    },
    {
      "cell_type": "code",
      "source": [
        "%%script false --no-raise-error\n",
        "# comment out the first line to activate this code block\n",
        "\n",
        "# Check the R version\n",
        "version"
      ],
      "metadata": {
        "id": "wyFo-F3ZNGFx"
      },
      "execution_count": null,
      "outputs": []
    },
    {
      "cell_type": "code",
      "source": [
        "%%script false --no-raise-error\n",
        "# comment out the first line to activate this code block\n",
        "\n",
        "# AI generated hello world example\n",
        "# Create a string\n",
        "message <- \"Hello, World!\"\n",
        "\n",
        "# Split the string into individual characters\n",
        "characters <- unlist(strsplit(message, \"\"))\n",
        "\n",
        "# Create a data frame with these characters\n",
        "df <- data.frame(Letters = characters, stringsAsFactors = FALSE)\n",
        "\n",
        "# Use cat to print all letters on the same line\n",
        "cat(df$Letters, sep = \"\")"
      ],
      "metadata": {
        "id": "HQO1h-sSN1br"
      },
      "execution_count": null,
      "outputs": []
    },
    {
      "cell_type": "markdown",
      "source": [
        "<a name=\"4-data\"></a>\n",
        "# 4. Data Handling\n",
        "\n",
        "[[Back to Top](#0-outline)]"
      ],
      "metadata": {
        "id": "2Vsd5wa4NUnj"
      }
    },
    {
      "cell_type": "markdown",
      "source": [
        "Now, back to python runtime.\n",
        "\n",
        "If you find troubles running the cells, go to the menu for `Runtime` -> `Restart session`"
      ],
      "metadata": {
        "id": "A7WlhtZHQzB1"
      }
    },
    {
      "cell_type": "markdown",
      "source": [
        "## 4.1 Preparation (Just run this section)"
      ],
      "metadata": {
        "id": "f8eQ7LxfOc66"
      }
    },
    {
      "cell_type": "markdown",
      "source": [
        "The following data-obtaining code is based on the [openmindat python package](https://github.com/ChuBL/OpenMindat), which requires a Mindat API key for operative data access.\n",
        "\n",
        "This tutorial will offer a temporary key for class test usage, which will be revoked soon after the class. If you wish to have your key, please refer to https://www.mindat.org/a/how_to_get_my_mindat_api_key."
      ],
      "metadata": {
        "id": "7CF9DHw6d7dO"
      }
    },
    {
      "cell_type": "code",
      "source": [
        "%%capture --no-stderr\n",
        "!pip install openmindat\n",
        "!pip install folium"
      ],
      "metadata": {
        "id": "htWJJO7WRg82"
      },
      "execution_count": null,
      "outputs": []
    },
    {
      "cell_type": "code",
      "source": [
        "%%capture --no-stderr\n",
        "! gdown --id 13dNRtB9WrOtWamLYLlSoG-d8S82rxYOk"
      ],
      "metadata": {
        "id": "fwfJtwquOTNC"
      },
      "execution_count": null,
      "outputs": []
    },
    {
      "cell_type": "code",
      "source": [
        "import yaml\n",
        "import os\n",
        "\n",
        "with open('./.apikey.yaml', 'r') as f:\n",
        "    yaml_api_key = yaml.safe_load(f)['api_key']\n",
        "\n",
        "os.environ[\"MINDAT_API_KEY\"] = yaml_api_key"
      ],
      "metadata": {
        "id": "hjsora6fRMng"
      },
      "execution_count": null,
      "outputs": []
    },
    {
      "cell_type": "markdown",
      "source": [
        "## 4.2 Dataset Obtaining"
      ],
      "metadata": {
        "id": "HmSBen2kR7Vj"
      }
    },
    {
      "cell_type": "code",
      "source": [
        "#@title **Query Localities of a Country**\n",
        "\n",
        "\n",
        "# @markdown **【Step 1.】:**<font size=\"5\">Select country for the query.</font>\n",
        "\n",
        "# encoding:utf-8\n",
        "country_selection = \"Austria\"  # @param [\"Austria\",\"Brazil\", \"Canada\"]\n",
        "\n",
        "# @markdown **【Step 2.】:** <font size=\"5\">Specify keywords in the place names. Leave blank for no filter.\n",
        "# @markdown </br>&nbsp;&nbsp;&nbsp;&nbsp;&nbsp;&nbsp;&nbsp;&nbsp;&nbsp;&nbsp;&nbsp;&nbsp;&nbsp;&nbsp;&nbsp;&nbsp;\n",
        "# @markdown e.g, `mine`, `deposit`, `xx city`, `xx county`, `xx town`, etc.</font>\n",
        "txt_info = \"mine\"  # @param {type:\"string\"}\n",
        "# @markdown **【Step 3.】:** <font size=\"5\">Specify keywords in the locality descriptions. Leave blank for no filter.\n",
        "# @markdown </br>&nbsp;&nbsp;&nbsp;&nbsp;&nbsp;&nbsp;&nbsp;&nbsp;&nbsp;&nbsp;&nbsp;&nbsp;&nbsp;&nbsp;&nbsp;&nbsp;\n",
        "# @markdown e.g, `mine`, `hot spring`, `tourist area`, `copper`, etc.</font>\n",
        "description_info = \"\"  # @param {type:\"string\"}\n",
        "\n",
        "from openmindat import LocalitiesRetriever\n",
        "\n",
        "lr = LocalitiesRetriever()\n",
        "lr.country(country_selection).txt(txt_info).description(description_info)\n",
        "lr.saveto('/content/mindat_data')"
      ],
      "metadata": {
        "cellView": "form",
        "id": "lEXUwCCbCcJu"
      },
      "execution_count": null,
      "outputs": []
    },
    {
      "cell_type": "code",
      "source": [
        "import json\n",
        "with open('FILE_PATH', 'r') as f:\n",
        "    data = json.load(f)"
      ],
      "metadata": {
        "id": "ADzd55w2V-V8"
      },
      "execution_count": null,
      "outputs": []
    },
    {
      "cell_type": "markdown",
      "source": [
        "❗Oops❗**(3/4)**\n",
        "\n",
        "We got a <font color='red'>FileNotFoundError</font>!\n",
        "\n",
        "Please find and copy the file path in the 📁(left column) and paste it to the code below."
      ],
      "metadata": {
        "id": "8p-OsMX7V1eB"
      }
    },
    {
      "cell_type": "code",
      "source": [
        "with open('PASTE_FILE_PATH_HERE', 'r') as f:\n",
        "    data = json.load(f)\n",
        "print(data['results'][0])"
      ],
      "metadata": {
        "id": "R_Q94v2-UpFX"
      },
      "execution_count": null,
      "outputs": []
    },
    {
      "cell_type": "markdown",
      "source": [
        "## 4.3 Visualiaztion"
      ],
      "metadata": {
        "id": "yvTPtT3sXmbE"
      }
    },
    {
      "cell_type": "code",
      "source": [
        "#@title **Plot the Queried Localities**\n",
        "\n",
        "\n",
        "# @markdown **【Step 1.】:** <font size=\"5\">Select country for the query.</font>\n",
        "\n",
        "# encoding:utf-8\n",
        "country_selection = \"Brazil\"  # @param [\"Austria\",\"Brazil\", \"Canada\"]\n",
        "\n",
        "# @markdown **【Step 2.】:** <font size=\"5\">Specify keywords in the place names. Leave blank for no filter.\n",
        "# @markdown </br>&nbsp;&nbsp;&nbsp;&nbsp;&nbsp;&nbsp;&nbsp;&nbsp;&nbsp;&nbsp;&nbsp;&nbsp;&nbsp;&nbsp;&nbsp;&nbsp;\n",
        "# @markdown e.g, `mine`, `deposit`, `xx city`, `xx county`, `xx town`, etc.</font>\n",
        "txt_info = \"mine\"  # @param {type:\"string\"}\n",
        "# @markdown **【Step 3.】:** <font size=\"5\">Specify keywords in the locality descriptions. Leave blank for no filter.\n",
        "# @markdown </br>&nbsp;&nbsp;&nbsp;&nbsp;&nbsp;&nbsp;&nbsp;&nbsp;&nbsp;&nbsp;&nbsp;&nbsp;&nbsp;&nbsp;&nbsp;&nbsp;\n",
        "# @markdown e.g, `mine`, `hot spring`, `tourist area`, `copper`, etc.</font>\n",
        "description_info = \"\"  # @param {type:\"string\"}\n",
        "# @markdown **【Step 4.】:** <font size=\"5\">Choose the visualization approach.</font>\n",
        "visualization_selection = \"heat map\" # @param [\"\", \"pop up\",\"heat map\"]\n",
        "\n",
        "\n",
        "from openmindat import LocalitiesRetriever\n",
        "import json\n",
        "import folium\n",
        "from folium.plugins import HeatMap\n",
        "\n",
        "lr = LocalitiesRetriever()\n",
        "lr.country(country_selection).txt(txt_info).description(description_info)\n",
        "lr.saveto('/content/mindat_data')\n",
        "\n",
        "# Initialize sums and counters\n",
        "lat_sum = 0\n",
        "lon_sum = 0\n",
        "count = 0\n",
        "\n",
        "with open('/content/mindat_data/localities.json', 'r') as f:\n",
        "    data = json.load(f)\n",
        "\n",
        "# Sum up all latitudes and longitudes\n",
        "for item in data['results']:\n",
        "    lat = item['latitude']\n",
        "    lon = item['longitude']\n",
        "    # Filter out the (0,0) coordinate and other potentially erroneous coordinates\n",
        "    if lat != 0.0 and lon != 0.0:\n",
        "        lat_sum += lat\n",
        "        lon_sum += lon\n",
        "        count += 1\n",
        "\n",
        "# Calculate the average latitude and longitude (the centroid)\n",
        "if count > 0:\n",
        "    center_lat = lat_sum / count\n",
        "    center_lon = lon_sum / count\n",
        "else:\n",
        "    center_lat, center_lon = 38, 77  # Default to Washington, D.C. if no valid data points\n",
        "\n",
        "# Create a map centered around the calculated centroid\n",
        "map = folium.Map(location=[center_lat, center_lon], zoom_start=6)\n",
        "\n",
        "if \"pop up\" == visualization_selection:\n",
        "    # Add markers for each location in the JSON data\n",
        "    for item in data['results']:\n",
        "        lat = item['latitude']\n",
        "        lon = item['longitude']\n",
        "        # Filter out the (0,0) coordinate\n",
        "        id = item.get('id')\n",
        "        # print(type(id))\n",
        "        txt = item.get('txt', 'No txt provided')  # Default if no description is provided\n",
        "        url = f'https://www.mindat.org/loc-{id}.html'\n",
        "        # popup_info = f\"<strong>{id}</strong><br>{txt}\"\n",
        "        popup_info = folium.Popup(f\"<div style='width:200px; font-size:16px;'><strong>ID:</strong> {id}<br><strong>Description:</strong> {txt}<br><strong>URL:</strong> <a href='{url}' target='_blank'>{url}</a></div>\",\n",
        "                            max_width=265)\n",
        "        if lat != 0.0 or lon != 0.0:\n",
        "            folium.Marker(\n",
        "                location=[lat, lon],\n",
        "                popup=popup_info,\n",
        "                icon=folium.Icon(color='blue', icon='info-sign')\n",
        "            ).add_to(map)\n",
        "elif \"heat map\" == visualization_selection:\n",
        "    # Add markers for each location in the JSON data\n",
        "    for item in data['results']:\n",
        "        lat = item['latitude']\n",
        "        lon = item['longitude']\n",
        "        # Filter out the (0,0) coordinate\n",
        "\n",
        "    # Add a heat map layer to the map\n",
        "    heat_map_data = [\n",
        "        (item['latitude'], item['longitude']) for item in data['results']\n",
        "        if item['latitude'] != 0.0 and item['longitude'] != 0.0\n",
        "    ]\n",
        "\n",
        "    HeatMap(heat_map_data).add_to(map)\n",
        "else:\n",
        "    raise ValueError(\"Please select a visualization approach!\")\n",
        "map\n"
      ],
      "metadata": {
        "cellView": "form",
        "id": "z10lPQ0CbuK4"
      },
      "execution_count": null,
      "outputs": []
    },
    {
      "cell_type": "markdown",
      "source": [
        "<a name=\"5-ydata\"></a>\n",
        "# 5. YData Profiling\n",
        "\n",
        "[[Back to Top](#0-outline)]"
      ],
      "metadata": {
        "id": "CS2caWsuRyRA"
      }
    },
    {
      "cell_type": "markdown",
      "source": [
        "[Source](https://docs.profiling.ydata.ai/latest/)"
      ],
      "metadata": {
        "id": "nRkqhxAPbRpq"
      }
    },
    {
      "cell_type": "code",
      "source": [
        "%%capture --no-stderr\n",
        "!pip install ydata-profiling"
      ],
      "metadata": {
        "id": "Yan4tpte0XvX"
      },
      "execution_count": null,
      "outputs": []
    },
    {
      "cell_type": "code",
      "source": [
        "import numpy as np\n",
        "import pandas as pd\n",
        "from ydata_profiling import ProfileReport"
      ],
      "metadata": {
        "id": "EbQV74Bk5rbH"
      },
      "execution_count": null,
      "outputs": []
    },
    {
      "cell_type": "code",
      "source": [
        "df = pd.DataFrame(\n",
        "    np.random.rand(100, 5),\n",
        "    columns=['a', 'b', 'c', 'd', 'e']\n",
        ")"
      ],
      "metadata": {
        "id": "4_tPryhs5o9u"
      },
      "execution_count": null,
      "outputs": []
    },
    {
      "cell_type": "code",
      "source": [
        "df"
      ],
      "metadata": {
        "id": "qFQjxjbJ5vyo"
      },
      "execution_count": null,
      "outputs": []
    },
    {
      "cell_type": "code",
      "source": [
        "profile = ProfileReport(df, title='Pandas Profiling Report', html={'style':{'full_width':False}})"
      ],
      "metadata": {
        "id": "WUc6Tc0p6N1N"
      },
      "execution_count": null,
      "outputs": []
    },
    {
      "cell_type": "code",
      "source": [
        "profile.to_widgets()"
      ],
      "metadata": {
        "id": "4DoFkBrF7SHV"
      },
      "execution_count": null,
      "outputs": []
    },
    {
      "cell_type": "code",
      "source": [
        "profile.to_notebook_iframe()"
      ],
      "metadata": {
        "id": "vgScIsfG6RQ7"
      },
      "execution_count": null,
      "outputs": []
    },
    {
      "cell_type": "code",
      "source": [
        "profile.to_file(output_file=\"REPORT.html\")"
      ],
      "metadata": {
        "id": "u1kzrZ_W6hv0"
      },
      "execution_count": null,
      "outputs": []
    },
    {
      "cell_type": "markdown",
      "source": [
        "<a name=\"6-drive\"></a>\n",
        "# 6. Connecting to Google Drive\n",
        "\n",
        "[[Back to Top](#0-outline)]"
      ],
      "metadata": {
        "id": "NMeXdpuSYHOd"
      }
    },
    {
      "cell_type": "markdown",
      "source": [
        "❗Oops❗**(4/4)**\n",
        "\n",
        "I forgot the code to mount Google Drive on Colab!\n",
        "\n",
        "Please try to find it in the `<>` button in the left column.\n",
        "\n",
        "Search the code snippets using keyword:\n",
        "\n",
        "`drive`\n",
        "\n",
        "Then, insert the code snippet from `Mounting Google Drive in your VM`."
      ],
      "metadata": {
        "id": "y2aKD9pgZ1wn"
      }
    },
    {
      "cell_type": "code",
      "source": [],
      "metadata": {
        "id": "ed3l2CaSYMWl"
      },
      "execution_count": null,
      "outputs": []
    },
    {
      "cell_type": "markdown",
      "source": [
        "<a name=\"7-colabpro\"></a>\n",
        "# 7. Colab Pro\n",
        "\n",
        "[[Back to Top](#0-outline)]"
      ],
      "metadata": {
        "id": "bn7lpPu9gzzg"
      }
    },
    {
      "cell_type": "markdown",
      "source": [
        "https://colab.research.google.com/signup"
      ],
      "metadata": {
        "id": "ozTpTKuRg51Q"
      }
    }
  ]
}